{
  "nbformat": 4,
  "nbformat_minor": 0,
  "metadata": {
    "colab": {
      "name": "Copy of Day 9",
      "version": "0.3.2",
      "provenance": []
    },
    "kernelspec": {
      "name": "python3",
      "display_name": "Python 3"
    }
  },
  "cells": [
    {
      "cell_type": "code",
      "metadata": {
        "id": "hCkyUBfz5ARi",
        "colab_type": "code",
        "outputId": "4b764d72-8113-4857-abbc-c018469cded6",
        "colab": {
          "base_uri": "https://localhost:8080/",
          "height": 51
        }
      },
      "source": [
        "s=\"Python is easy programming to learn ans is intersting\"\n",
        "s1=\"python\"\n",
        "print(s.islower())\n",
        "print(s1.islower())"
      ],
      "execution_count": 0,
      "outputs": [
        {
          "output_type": "stream",
          "text": [
            "False\n",
            "True\n"
          ],
          "name": "stdout"
        }
      ]
    },
    {
      "cell_type": "code",
      "metadata": {
        "id": "Xsl-357F61fx",
        "colab_type": "code",
        "outputId": "f769703a-da7f-4259-a882-23492b1c3b37",
        "colab": {
          "base_uri": "https://localhost:8080/",
          "height": 51
        }
      },
      "source": [
        "s=\"APPLICATIONS\"\n",
        "s1='A'\n",
        "print(s.isupper())\n",
        "print(s1.isupper())"
      ],
      "execution_count": 0,
      "outputs": [
        {
          "output_type": "stream",
          "text": [
            "True\n",
            "True\n"
          ],
          "name": "stdout"
        }
      ]
    },
    {
      "cell_type": "code",
      "metadata": {
        "id": "nvW1TCxU74TO",
        "colab_type": "code",
        "outputId": "78c618c7-70de-463a-9593-654a3ac7d044",
        "colab": {
          "base_uri": "https://localhost:8080/",
          "height": 51
        }
      },
      "source": [
        "s=\"5678\"\n",
        "s1=\"App1889\"\n",
        "print(s.isnumeric())\n",
        "print(s1.isnumeric())\n"
      ],
      "execution_count": 0,
      "outputs": [
        {
          "output_type": "stream",
          "text": [
            "True\n",
            "False\n"
          ],
          "name": "stdout"
        }
      ]
    },
    {
      "cell_type": "code",
      "metadata": {
        "id": "YzzrMH4H8kSN",
        "colab_type": "code",
        "outputId": "66ec443b-c7e4-46c5-88f8-8b98110b8285",
        "colab": {
          "base_uri": "https://localhost:8080/",
          "height": 51
        }
      },
      "source": [
        "s=\"Application\"\n",
        "s1=\"App1889\"\n",
        "print(s.isalpha())\n",
        "print(s1.isalpha())\n"
      ],
      "execution_count": 0,
      "outputs": [
        {
          "output_type": "stream",
          "text": [
            "True\n",
            "False\n"
          ],
          "name": "stdout"
        }
      ]
    },
    {
      "cell_type": "code",
      "metadata": {
        "id": "u4lR1UPJ89Sl",
        "colab_type": "code",
        "outputId": "e2d38276-104f-44d8-cc52-dbb97ad0b497",
        "colab": {
          "base_uri": "https://localhost:8080/",
          "height": 51
        }
      },
      "source": [
        "s=\"Python programming\"\n",
        "s1=\"Python Programming\"\n",
        "print(s.istitle())\n",
        "print(s1.istitle())\n"
      ],
      "execution_count": 0,
      "outputs": [
        {
          "output_type": "stream",
          "text": [
            "False\n",
            "True\n"
          ],
          "name": "stdout"
        }
      ]
    },
    {
      "cell_type": "markdown",
      "metadata": {
        "id": "oIKaAq7x_cOX",
        "colab_type": "text"
      },
      "source": [
        "### String methods\n",
        "\n",
        "\n",
        "1.join() methods will concatinate two strings 2 3 repalce()\n",
        "\n",
        "\n",
        "\n",
        "2.split()returns the list of string that are seprerated by whitespace if there is no problem"
      ]
    },
    {
      "cell_type": "code",
      "metadata": {
        "id": "1RMJLyP4_33G",
        "colab_type": "code",
        "outputId": "9a073e24-06f5-4b46-abbd-04fabc65a1dc",
        "colab": {
          "base_uri": "https://localhost:8080/",
          "height": 34
        }
      },
      "source": [
        "str=\"python\"\n",
        "print(\" \".join(str))\n"
      ],
      "execution_count": 0,
      "outputs": [
        {
          "output_type": "stream",
          "text": [
            "p y t h o n\n"
          ],
          "name": "stdout"
        }
      ]
    },
    {
      "cell_type": "code",
      "metadata": {
        "id": "9z_l_dGyAPJn",
        "colab_type": "code",
        "outputId": "6aac72ad-2ec8-49a0-fd0f-97d410120fa2",
        "colab": {
          "base_uri": "https://localhost:8080/",
          "height": 34
        }
      },
      "source": [
        "print(\",\".join([\"python\",\"programming\",\"easy\"]))"
      ],
      "execution_count": 0,
      "outputs": [
        {
          "output_type": "stream",
          "text": [
            "python,programming,easy\n"
          ],
          "name": "stdout"
        }
      ]
    },
    {
      "cell_type": "code",
      "metadata": {
        "id": "rKfvygSZA19u",
        "colab_type": "code",
        "outputId": "a2590488-4c31-4b69-ebc7-88887e136f85",
        "colab": {
          "base_uri": "https://localhost:8080/",
          "height": 34
        }
      },
      "source": [
        "lst=[\"\",\"\"]\n",
        "print(\",\".join(lst))                                                                                                                                                     "
      ],
      "execution_count": 0,
      "outputs": [
        {
          "output_type": "stream",
          "text": [
            ",\n"
          ],
          "name": "stdout"
        }
      ]
    },
    {
      "cell_type": "code",
      "metadata": {
        "id": "bfZdrcamBwpU",
        "colab_type": "code",
        "outputId": "6124241a-0c1d-4e85-89de-79e905a3d71b",
        "colab": {
          "base_uri": "https://localhost:8080/",
          "height": 68
        }
      },
      "source": [
        "s=\"python, programming, is, easy, to, learn\"\n",
        "print(s.split())\n",
        "print(s.split(\"a\"))\n",
        "print(s.split(\",\"))"
      ],
      "execution_count": 0,
      "outputs": [
        {
          "output_type": "stream",
          "text": [
            "['python,', 'programming,', 'is,', 'easy,', 'to,', 'learn']\n",
            "['python, progr', 'mming, is, e', 'sy, to, le', 'rn']\n",
            "['python', ' programming', ' is', ' easy', ' to', ' learn']\n"
          ],
          "name": "stdout"
        }
      ]
    },
    {
      "cell_type": "code",
      "metadata": {
        "id": "YUV2v1hTC8T6",
        "colab_type": "code",
        "outputId": "d1cd55cb-0753-45d9-b185-af8225369dbc",
        "colab": {
          "base_uri": "https://localhost:8080/",
          "height": 51
        }
      },
      "source": [
        "s=\"python programming is easy to learn\"\n",
        "lst = s.split()\n",
        "print(lst)\n",
        "print(lst.index(\"is\"))"
      ],
      "execution_count": 0,
      "outputs": [
        {
          "output_type": "stream",
          "text": [
            "['python', 'programming', 'is', 'easy', 'to', 'learn']\n",
            "2\n"
          ],
          "name": "stdout"
        }
      ]
    },
    {
      "cell_type": "code",
      "metadata": {
        "id": "3S9Xp7HzEDeq",
        "colab_type": "code",
        "outputId": "d1bc8cdf-ccf3-41f8-973d-27a9747af35e",
        "colab": {
          "base_uri": "https://localhost:8080/",
          "height": 54
        }
      },
      "source": [
        "s=\"python programming is easy to learn\"\n",
        "lst = list(s)\n",
        "print(lst)"
      ],
      "execution_count": 0,
      "outputs": [
        {
          "output_type": "stream",
          "text": [
            "['p', 'y', 't', 'h', 'o', 'n', ' ', 'p', 'r', 'o', 'g', 'r', 'a', 'm', 'm', 'i', 'n', 'g', ' ', 'i', 's', ' ', 'e', 'a', 's', 'y', ' ', 't', 'o', ' ', 'l', 'e', 'a', 'r', 'n']\n"
          ],
          "name": "stdout"
        }
      ]
    },
    {
      "cell_type": "code",
      "metadata": {
        "id": "_2rJRZJAEwlQ",
        "colab_type": "code",
        "outputId": "c551ff88-1f3f-4cea-f597-ba50a79e9d8f",
        "colab": {
          "base_uri": "https://localhost:8080/",
          "height": 34
        }
      },
      "source": [
        "s=\"python programming\"\n",
        "print(s.replace(\"gra\",\"application\"))"
      ],
      "execution_count": 0,
      "outputs": [
        {
          "output_type": "stream",
          "text": [
            "python proapplicationmming\n"
          ],
          "name": "stdout"
        }
      ]
    },
    {
      "cell_type": "code",
      "metadata": {
        "id": "d8t2b1veGAxm",
        "colab_type": "code",
        "outputId": "2ea1ca9d-030e-469e-a869-5522c5962536",
        "colab": {
          "base_uri": "https://localhost:8080/",
          "height": 102
        }
      },
      "source": [
        "str = 'GITAMSTUDENTS'\n",
        "print('str = ', str)\n",
        "print('str[0] = ', str[0])\n",
        "print('str[-1] = ', str[-1])\n",
        "print('str[0:5] = ', str[0:5])\n",
        "print('str[5:-1] = ', str[5:-1])"
      ],
      "execution_count": 0,
      "outputs": [
        {
          "output_type": "stream",
          "text": [
            "str =  GITAMSTUDENTS\n",
            "str[0] =  G\n",
            "str[-1] =  S\n",
            "str[0:5] =  GITAM\n",
            "str[5:-1] =  STUDENT\n"
          ],
          "name": "stdout"
        }
      ]
    },
    {
      "cell_type": "markdown",
      "metadata": {
        "id": "llT2xzO1Km7V",
        "colab_type": "text"
      },
      "source": [
        "### Python --- Tuples\n",
        "\n",
        "\n",
        "\n",
        "a tuple of seq of set of objects is like list only.\n",
        "\n",
        "\n",
        "\n",
        "the difference of list and tuples are : the tuples cannot be changed unlike the list.\n",
        "\n",
        "\n",
        "list wiil use square brakcets holds objets[].\n",
        "\n",
        "Tuples use paranthesis to hold objets()\n",
        "\n",
        "\n"
      ]
    },
    {
      "cell_type": "code",
      "metadata": {
        "id": "Ja3umIkhQ7Oo",
        "colab_type": "code",
        "outputId": "78dd7c54-7554-4b21-fe1f-6ed1198e61f0",
        "colab": {
          "base_uri": "https://localhost:8080/",
          "height": 51
        }
      },
      "source": [
        "t1=(\"Python\",\"Programming\",1989,2019,\"Machine Learning\",\"AI\")\n",
        "t2=(1,2,3,4,5)\n",
        "print(t1)\n",
        "print(t2)"
      ],
      "execution_count": 0,
      "outputs": [
        {
          "output_type": "stream",
          "text": [
            "('Python', 'Programming', 1989, 2019, 'Machine Learning', 'AI')\n",
            "(1, 2, 3, 4, 5)\n"
          ],
          "name": "stdout"
        }
      ]
    },
    {
      "cell_type": "code",
      "metadata": {
        "id": "m2bP_O61RfqP",
        "colab_type": "code",
        "outputId": "74d0c871-df4e-4fb4-eef3-1dd1ded0565b",
        "colab": {
          "base_uri": "https://localhost:8080/",
          "height": 102
        }
      },
      "source": [
        "t1=(\"Python\",\"Programming\",1989,2019,\"Machine Learning\",\"AI\")\n",
        "print(\"t1[0]=\",t1[0])\n",
        "print(\"t1[2]=\",t1[2])\n",
        "print(\"t1[-1]=\",t1[-1])\n",
        "print(\"t1[1:4]=\",t1[1:4])\n",
        "print(\"t1[2:-2]=\",t1[2:-2])"
      ],
      "execution_count": 0,
      "outputs": [
        {
          "output_type": "stream",
          "text": [
            "t1[0]= Python\n",
            "t1[2]= 1989\n",
            "t1[-1]= AI\n",
            "t1[1:4]= ('Programming', 1989, 2019)\n",
            "t1[2:-2]= (1989, 2019)\n"
          ],
          "name": "stdout"
        }
      ]
    },
    {
      "cell_type": "markdown",
      "metadata": {
        "id": "54z--XgOSa89",
        "colab_type": "text"
      },
      "source": [
        "### Tuple Methods\n",
        "\n",
        "\n",
        "\n",
        "\n",
        "1.len(tuple)\n",
        "\n",
        "\n",
        "2 max(tuple)\n",
        "\n",
        "\n",
        "\n",
        "3.min(tuple)\n",
        "\n",
        "\n",
        "4.cmp(tuple1,tuple2)\n",
        "\n"
      ]
    },
    {
      "cell_type": "code",
      "metadata": {
        "id": "sfT7rxHmTBcO",
        "colab_type": "code",
        "outputId": "0ec1f334-577d-4697-fdfd-c6ae3f1c34ec",
        "colab": {
          "base_uri": "https://localhost:8080/",
          "height": 34
        }
      },
      "source": [
        "t1=(\"Python\",\"Programming\",1989,2019,\"Machine Learning\",\"AI\")\n",
        "print(len(t1))"
      ],
      "execution_count": 0,
      "outputs": [
        {
          "output_type": "stream",
          "text": [
            "6\n"
          ],
          "name": "stdout"
        }
      ]
    },
    {
      "cell_type": "markdown",
      "metadata": {
        "id": "iVtx64Luekwv",
        "colab_type": "text"
      },
      "source": [
        "### Python Dictionary"
      ]
    },
    {
      "cell_type": "code",
      "metadata": {
        "id": "U6LWapygeuo3",
        "colab_type": "code",
        "outputId": "1fbf6fdb-8da1-4997-cf0a-00d85d6d216d",
        "colab": {
          "base_uri": "https://localhost:8080/",
          "height": 68
        }
      },
      "source": [
        "user1={'Name':'Siddharth','Age':'29','EmailID':'sid23@gamil.com','Moblie no':'9676911177'}\n",
        "print(user1['EmailID'])\n",
        "#update the direct object data\n",
        "user1['EmailID']=\"sid23@gmail.com\"\n",
        "print(user1['EmailID'])\n",
        "user1['Address']='Hyderabad'\n",
        "print(user1['Address'])"
      ],
      "execution_count": 0,
      "outputs": [
        {
          "output_type": "stream",
          "text": [
            "sid23@gamil.com\n",
            "sid23@gmail.com\n",
            "Hyderabad\n"
          ],
          "name": "stdout"
        }
      ]
    },
    {
      "cell_type": "markdown",
      "metadata": {
        "id": "KBCcExiZ_3YS",
        "colab_type": "text"
      },
      "source": [
        "### String Funtioning\n",
        "\n",
        "\n",
        "%s%d"
      ]
    },
    {
      "cell_type": "code",
      "metadata": {
        "id": "iHnK2ZhMAGYR",
        "colab_type": "code",
        "outputId": "aa15eb71-2ede-4780-d75d-6bb3fc71c734",
        "colab": {
          "base_uri": "https://localhost:8080/",
          "height": 34
        }
      },
      "source": [
        "list=['python','programming']\n",
        "print(\"%s %s\" %(list[0],list[1]))"
      ],
      "execution_count": 0,
      "outputs": [
        {
          "output_type": "stream",
          "text": [
            "python programming\n"
          ],
          "name": "stdout"
        }
      ]
    },
    {
      "cell_type": "code",
      "metadata": {
        "id": "MfoBlRFcAXia",
        "colab_type": "code",
        "outputId": "ad757f5a-882e-4fa2-86a9-d4f98a0409ff",
        "colab": {
          "base_uri": "https://localhost:8080/",
          "height": 34
        }
      },
      "source": [
        "print('1.1'.isnumeric())"
      ],
      "execution_count": 0,
      "outputs": [
        {
          "output_type": "stream",
          "text": [
            "False\n"
          ],
          "name": "stdout"
        }
      ]
    },
    {
      "cell_type": "code",
      "metadata": {
        "id": "iTWBpm4ZAz6x",
        "colab_type": "code",
        "outputId": "c3d2c64f-e393-49f0-97bc-55573b6b2ab1",
        "colab": {
          "base_uri": "https://localhost:8080/",
          "height": 68
        }
      },
      "source": [
        "contacts={}\n",
        "def addcontact(name,phone):\n",
        "  #verify that the contact doesnt already exits\n",
        "    if name not in contacts:\n",
        "        contacts[name]=phone\n",
        "        print(\"contact %s added\" % name)\n",
        "    else:\n",
        "         print(\"contact already exits % name\")\n",
        "    return\n",
        "  \n",
        "addcontact(\"sid\",9676911177)\n",
        "addcontact(\"mahi\",9542429777)\n",
        "addcontact(\"sid\",9441696889)"
      ],
      "execution_count": 0,
      "outputs": [
        {
          "output_type": "stream",
          "text": [
            "contact sid added\n",
            "contact mahi added\n",
            "contact already exits % name\n"
          ],
          "name": "stdout"
        }
      ]
    },
    {
      "cell_type": "code",
      "metadata": {
        "id": "nUMuDOFLCw5L",
        "colab_type": "code",
        "outputId": "bd209d81-f145-4057-e5d3-08d5a6881996",
        "colab": {
          "base_uri": "https://localhost:8080/",
          "height": 68
        }
      },
      "source": [
        "### Search for a particular contact from contact list\n",
        "\n",
        "def searchcontact(name):\n",
        "    if name in contacts:\n",
        "        print(name,\"i\",contacts[name])\n",
        "    else:\n",
        "        print(\"%s doesnot exists\" % name)\n",
        "        return\n",
        "        \n",
        "searchcontact(\"sid\")\n",
        "searchcontact(\"mahi\")\n",
        "searchcontact(\"reha\")"
      ],
      "execution_count": 0,
      "outputs": [
        {
          "output_type": "stream",
          "text": [
            "sid i 9676911177\n",
            "mahi i 9542429777\n",
            "reha doesnot exists\n"
          ],
          "name": "stdout"
        }
      ]
    },
    {
      "cell_type": "code",
      "metadata": {
        "id": "7floHPcNEbKL",
        "colab_type": "code",
        "outputId": "db2afbec-e33b-4654-db8a-45e699b15396",
        "colab": {
          "base_uri": "https://localhost:8080/",
          "height": 34
        }
      },
      "source": [
        "## New contacts is given as dictionary\n",
        "print(contacts)"
      ],
      "execution_count": 0,
      "outputs": [
        {
          "output_type": "stream",
          "text": [
            "{'sid': 9676911177, 'mahi': 9542429777}\n"
          ],
          "name": "stdout"
        }
      ]
    },
    {
      "cell_type": "code",
      "metadata": {
        "id": "JYEnc_4REqAo",
        "colab_type": "code",
        "outputId": "92e82824-e927-48b2-fe3d-64d9ce15bd08",
        "colab": {
          "base_uri": "https://localhost:8080/",
          "height": 34
        }
      },
      "source": [
        "## Merge new contacts with existing contacts\n",
        "\n",
        "def importcontacts(newcontacts):\n",
        "    contacts.update(newcontacts)\n",
        "    print(len(newcontacts.keys()),\"contacts added sucessfully\")\n",
        "    return\n",
        "newcontacts={'Dinesh':123456789,'Ajay':8297287111}\n",
        "importcontacts(newcontacts)"
      ],
      "execution_count": 0,
      "outputs": [
        {
          "output_type": "stream",
          "text": [
            "2 contacts added sucessfully\n"
          ],
          "name": "stdout"
        }
      ]
    },
    {
      "cell_type": "code",
      "metadata": {
        "id": "RRoSh5-gGnlu",
        "colab_type": "code",
        "outputId": "da957940-ed1e-4401-90c0-3f7d9c7eabd7",
        "colab": {
          "base_uri": "https://localhost:8080/",
          "height": 34
        }
      },
      "source": [
        "print(contacts)"
      ],
      "execution_count": 0,
      "outputs": [
        {
          "output_type": "stream",
          "text": [
            "{'sid': 9676911177, 'mahi': 9542429777, 'Dinesh': 123456789, 'Ajay': 8297287111}\n"
          ],
          "name": "stdout"
        }
      ]
    },
    {
      "cell_type": "code",
      "metadata": {
        "id": "25cYJM7yKbmP",
        "colab_type": "code",
        "outputId": "da040064-f050-49e0-8899-f73a4c7ee4a8",
        "colab": {
          "base_uri": "https://localhost:8080/",
          "height": 51
        }
      },
      "source": [
        "def deletecontact(name):\n",
        "    if name in contacts:\n",
        "        del contacts[name]\n",
        "        print(name,\"its deleted from the contacts\")\n",
        "    else:\n",
        "        print(name,\"its not exits in the contacts\")\n",
        "    return\n",
        "  \n",
        "deletecontact(\"mahi\")\n",
        "deletecontact(\"pagal\")"
      ],
      "execution_count": 0,
      "outputs": [
        {
          "output_type": "stream",
          "text": [
            "mahi its deleted from the contacts\n",
            "pagal its not exits in the contacts\n"
          ],
          "name": "stdout"
        }
      ]
    },
    {
      "cell_type": "code",
      "metadata": {
        "id": "TLStE7dSLctM",
        "colab_type": "code",
        "outputId": "921d9cb4-57cb-485d-977e-79590bfb7d67",
        "colab": {
          "base_uri": "https://localhost:8080/",
          "height": 34
        }
      },
      "source": [
        "def updatecontact(name,phone):\n",
        "    if name in contacts:\n",
        "        contacts[name]=phone\n",
        "        print(name,\":update with new number\")\n",
        "    else:\n",
        "        print(name,\"not exits in the contacts\")\n",
        "    return\n",
        "  \n",
        "updatecontact(\"sid\",987654321)\n",
        "    "
      ],
      "execution_count": 0,
      "outputs": [
        {
          "output_type": "stream",
          "text": [
            "sid :update with new number\n"
          ],
          "name": "stdout"
        }
      ]
    }
  ]
}