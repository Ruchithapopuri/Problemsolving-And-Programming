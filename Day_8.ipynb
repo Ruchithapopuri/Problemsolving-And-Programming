{
  "nbformat": 4,
  "nbformat_minor": 0,
  "metadata": {
    "colab": {
      "name": "Day 8",
      "version": "0.3.2",
      "provenance": [],
      "collapsed_sections": []
    },
    "kernelspec": {
      "name": "python3",
      "display_name": "Python 3"
    }
  },
  "cells": [
    {
      "cell_type": "markdown",
      "metadata": {
        "id": "BAvBhSO_ENt-",
        "colab_type": "text"
      },
      "source": [
        "### BINARY SEARCH\n",
        "can be appiled only on sorted list\n",
        "\n",
        "\n",
        "can be appilied only on unique list\n"
      ]
    },
    {
      "cell_type": "code",
      "metadata": {
        "id": "N2dWR6NsEoN1",
        "colab_type": "code",
        "outputId": "33cd0cfb-1da3-4c50-a5c3-17421506a4fe",
        "colab": {
          "base_uri": "https://localhost:8080/",
          "height": 34
        }
      },
      "source": [
        "def binarysearch(a,lIndex,rIndex,tarItem):\n",
        "    while lIndex <= rIndex:\n",
        "        mIndex = lIndex + (rIndex-lIndex)//2;\n",
        "        if a[mIndex] == tarItem:\n",
        "            return mIndex\n",
        "        if a[mIndex] > tarItem :\n",
        "            rIndex = mIndex - 1\n",
        "        else:\n",
        "            lIndex = mIndex + 1\n",
        "    return -1\n",
        "list1 = [1,4,9,15,25,45,57,88,98]\n",
        "res = binarysearch(list1,0,8,818)\n",
        "if res !=-1:\n",
        "    print(\"Item is found\")\n",
        "else:\n",
        "    print(\"Item is not found\")\n",
        "  \n",
        " "
      ],
      "execution_count": 0,
      "outputs": [
        {
          "output_type": "stream",
          "text": [
            "Item is not found\n"
          ],
          "name": "stdout"
        }
      ]
    },
    {
      "cell_type": "markdown",
      "metadata": {
        "id": "D_Yb_UrKJS1t",
        "colab_type": "text"
      },
      "source": [
        "### Bubble sort \n",
        " \n",
        " \n",
        " \n",
        " it compares the adj item , if the first item is greater than second item there would require of swap the item\n",
        " \n",
        " \n",
        " the complex -n*n\n",
        " \n",
        " \n",
        " "
      ]
    },
    {
      "cell_type": "code",
      "metadata": {
        "id": "TKJ8uUaQN1Tt",
        "colab_type": "code",
        "outputId": "0d97d044-91f1-486d-a34f-54d839bb6f95",
        "colab": {
          "base_uri": "https://localhost:8080/",
          "height": 34
        }
      },
      "source": [
        "def bubblesort(a):\n",
        "    for i in range(len(a)-1):\n",
        "        for j in range(len(a)-1):\n",
        "            if a[j] > a[j+1]:\n",
        "               a[j],a[j+1] = a[j+1],a[j]\n",
        "                \n",
        "                \n",
        "    for i in range(len(a)):\n",
        "        print(a[i],end=\" \")\n",
        "        \n",
        "        \n",
        "list1 = [19,1,25,6,18,3]\n",
        "bubblesort(list1)\n",
        "\n",
        "  "
      ],
      "execution_count": 0,
      "outputs": [
        {
          "output_type": "stream",
          "text": [
            "1 3 6 18 19 25 "
          ],
          "name": "stdout"
        }
      ]
    },
    {
      "cell_type": "markdown",
      "metadata": {
        "id": "dG48rxnqSCMN",
        "colab_type": "text"
      },
      "source": [
        "### string"
      ]
    },
    {
      "cell_type": "code",
      "metadata": {
        "id": "kXSuqZipSTB8",
        "colab_type": "code",
        "outputId": "5b3481c2-ac6e-4b1f-8855-74c2f7a82523",
        "colab": {
          "base_uri": "https://localhost:8080/",
          "height": 153
        }
      },
      "source": [
        "# Creating a string\n",
        "str = \"application\"\n",
        "print(str)\n",
        "\n",
        "\n",
        "str1 = 'application'\n",
        "print(str1)\n",
        "\n",
        "str2 = \"\"\"application test\n",
        "       working\n",
        "       completed\n",
        "       list\n",
        "       strings\n",
        "       python\"\"\"\n",
        "print(str2)\n"
      ],
      "execution_count": 0,
      "outputs": [
        {
          "output_type": "stream",
          "text": [
            "application\n",
            "application\n",
            "application test\n",
            "       working\n",
            "       completed\n",
            "       list\n",
            "       strings\n",
            "       python\n"
          ],
          "name": "stdout"
        }
      ]
    },
    {
      "cell_type": "code",
      "metadata": {
        "id": "xDZEAdTZTdy0",
        "colab_type": "code",
        "outputId": "6ef625d6-1185-47b1-d5b3-b499d09d3b0f",
        "colab": {
          "base_uri": "https://localhost:8080/",
          "height": 170
        }
      },
      "source": [
        "str = \"application\"\n",
        "print(str)\n",
        "print(\"str[0] = \",str[0])\n",
        "print(\"str[1] = \",str[1])\n",
        "print(\"str[-1] = \",str[-1])\n",
        "print(\"str[-3] = \",str[-3])\n",
        "print(\"str[1:5] = \",str[1:5])\n",
        "print(\"str[:5] = \",str[:5])\n",
        "print(\"str[:-2] = \",str[:-2])\n",
        "print(\"str[::-1] = \",str[::-1])"
      ],
      "execution_count": 0,
      "outputs": [
        {
          "output_type": "stream",
          "text": [
            "application\n",
            "str[0] =  a\n",
            "str[1] =  p\n",
            "str[-1] =  n\n",
            "str[-3] =  i\n",
            "str[1:5] =  ppli\n",
            "str[:5] =  appli\n",
            "str[:-2] =  applicati\n",
            "str[::-1] =  noitacilppa\n"
          ],
          "name": "stdout"
        }
      ]
    },
    {
      "cell_type": "markdown",
      "metadata": {
        "id": "QNokqSSyc7rT",
        "colab_type": "text"
      },
      "source": [
        "### Palindrome of string"
      ]
    },
    {
      "cell_type": "code",
      "metadata": {
        "id": "EZSLE4ycdE1C",
        "colab_type": "code",
        "outputId": "bde37ed3-005d-4bd7-8d86-174853d5c7fb",
        "colab": {
          "base_uri": "https://localhost:8080/",
          "height": 51
        }
      },
      "source": [
        "def isPalindrome(s):\n",
        "    if s == s[::-1]:\n",
        "        return True\n",
        "    else: \n",
        "        return False\n",
        "      \n",
        "      \n",
        "print(isPalindrome(\"python\"))\n",
        "print(isPalindrome(\"jalaj\"))"
      ],
      "execution_count": 0,
      "outputs": [
        {
          "output_type": "stream",
          "text": [
            "False\n",
            "True\n"
          ],
          "name": "stdout"
        }
      ]
    },
    {
      "cell_type": "markdown",
      "metadata": {
        "id": "mAFFJe2sgBuL",
        "colab_type": "text"
      },
      "source": [
        "### Count of digits"
      ]
    },
    {
      "cell_type": "code",
      "metadata": {
        "id": "TYnC2qEQeN2A",
        "colab_type": "code",
        "outputId": "f8ace0b2-c804-4b5a-8fee-b4a33485e4b6",
        "colab": {
          "base_uri": "https://localhost:8080/",
          "height": 51
        }
      },
      "source": [
        "# Count the digits of a number\n",
        "n = int(input(\"enter a number\"))\n",
        "cnt = 0\n",
        "while n != 0:\n",
        "    cnt = cnt + 1;\n",
        "    n = n // 10;\n",
        "    \n",
        "    \n",
        "print(cnt)\n",
        "  "
      ],
      "execution_count": 0,
      "outputs": [
        {
          "output_type": "stream",
          "text": [
            "enter a number54\n",
            "2\n"
          ],
          "name": "stdout"
        }
      ]
    },
    {
      "cell_type": "code",
      "metadata": {
        "id": "LnBKmX_TfZ-t",
        "colab_type": "code",
        "outputId": "486fa4e1-3434-4725-99f5-999908b1c3ab",
        "colab": {
          "base_uri": "https://localhost:8080/",
          "height": 34
        }
      },
      "source": [
        "def countofchars(str):\n",
        "    return len(str)\n",
        "countofchars(\"application\")"
      ],
      "execution_count": 0,
      "outputs": [
        {
          "output_type": "execute_result",
          "data": {
            "text/plain": [
              "11"
            ]
          },
          "metadata": {
            "tags": []
          },
          "execution_count": 7
        }
      ]
    },
    {
      "cell_type": "code",
      "metadata": {
        "id": "rzC9OSwpgJI0",
        "colab_type": "code",
        "outputId": "3d1556f9-52a3-4acd-9e1b-d0029c70bbef",
        "colab": {
          "base_uri": "https://localhost:8080/",
          "height": 34
        }
      },
      "source": [
        "def countDigits(n):\n",
        "    return len(n)\n",
        "  \n",
        "  \n",
        "countDigits(\"25410\")"
      ],
      "execution_count": 0,
      "outputs": [
        {
          "output_type": "execute_result",
          "data": {
            "text/plain": [
              "5"
            ]
          },
          "metadata": {
            "tags": []
          },
          "execution_count": 8
        }
      ]
    },
    {
      "cell_type": "code",
      "metadata": {
        "id": "82rAJDKrgiwz",
        "colab_type": "code",
        "outputId": "e475aaaa-ddd2-4a9d-ed26-93d6714fe553",
        "colab": {
          "base_uri": "https://localhost:8080/",
          "height": 34
        }
      },
      "source": [
        "# String - Converts - List -- Len of the list\n",
        "def count(str):\n",
        "    lst1 = list(str)\n",
        "    return len(lst1)\n",
        "count(\"App\")"
      ],
      "execution_count": 0,
      "outputs": [
        {
          "output_type": "execute_result",
          "data": {
            "text/plain": [
              "3"
            ]
          },
          "metadata": {
            "tags": []
          },
          "execution_count": 9
        }
      ]
    },
    {
      "cell_type": "markdown",
      "metadata": {
        "id": "p2wmwvU6gnib",
        "colab_type": "text"
      },
      "source": [
        "### String Examples :\n",
        "\n",
        "\n",
        "\n",
        "Text cases:\n",
        "\n",
        "\n",
        "Applications -- 2\n",
        "\n",
        "\n",
        "text -- 3"
      ]
    },
    {
      "cell_type": "code",
      "metadata": {
        "id": "QpoMDHAko4vb",
        "colab_type": "code",
        "outputId": "8216a306-9807-408d-c64a-d275940d73d3",
        "colab": {
          "base_uri": "https://localhost:8080/",
          "height": 51
        }
      },
      "source": [
        "def countUpperCase(str):\n",
        "    cnt = 0\n",
        "    lst1 = list(str)\n",
        "    for x in range(len(lst1)):\n",
        "      if ord(lst1[x]) >= 65 and ord(lst1[x]) <= 90:\n",
        "          cnt = cnt + 1\n",
        "      return cnt\n",
        "  \n",
        "print(countUpperCase(\"ApplicAtion\"))\n",
        "print(countUpperCase(\"TeST\"))\n"
      ],
      "execution_count": 0,
      "outputs": [
        {
          "output_type": "stream",
          "text": [
            "1\n",
            "1\n"
          ],
          "name": "stdout"
        }
      ]
    },
    {
      "cell_type": "code",
      "metadata": {
        "id": "AlGSa4OTg-ZM",
        "colab_type": "code",
        "outputId": "b20367ed-8833-4657-e5a8-b9b32799a712",
        "colab": {
          "base_uri": "https://localhost:8080/",
          "height": 51
        }
      },
      "source": [
        "def countuppercase(str):\n",
        "    cnt = 0\n",
        "    \n",
        "    \n",
        "    return cnt\n",
        "  \n",
        "print(countuppercase(\"application\"))\n",
        "print(countuppercase(\"test\"))"
      ],
      "execution_count": 0,
      "outputs": [
        {
          "output_type": "stream",
          "text": [
            "0\n",
            "0\n"
          ],
          "name": "stdout"
        }
      ]
    },
    {
      "cell_type": "markdown",
      "metadata": {
        "id": "8EJeh42ov4a4",
        "colab_type": "text"
      },
      "source": [
        "### Print of digits in a string\n",
        "\n",
        "\n",
        "text cases:\n",
        "\n",
        "\n",
        "applications1889--1889 te 1520--1520"
      ]
    },
    {
      "cell_type": "code",
      "metadata": {
        "id": "IVI3AfEVWB8P",
        "colab_type": "code",
        "outputId": "c7ac46c8-5cfe-4947-9795-74e4c37a45e7",
        "colab": {
          "base_uri": "https://localhost:8080/",
          "height": 197
        }
      },
      "source": [
        "x = \"foo\"\n",
        "y = 2\n",
        "print(x + y)"
      ],
      "execution_count": 0,
      "outputs": [
        {
          "output_type": "error",
          "ename": "TypeError",
          "evalue": "ignored",
          "traceback": [
            "\u001b[0;31m---------------------------------------------------------------------------\u001b[0m",
            "\u001b[0;31mTypeError\u001b[0m                                 Traceback (most recent call last)",
            "\u001b[0;32m<ipython-input-1-4b913cc6a58e>\u001b[0m in \u001b[0;36m<module>\u001b[0;34m()\u001b[0m\n\u001b[1;32m      1\u001b[0m \u001b[0mx\u001b[0m \u001b[0;34m=\u001b[0m \u001b[0;34m\"foo\"\u001b[0m\u001b[0;34m\u001b[0m\u001b[0;34m\u001b[0m\u001b[0m\n\u001b[1;32m      2\u001b[0m \u001b[0my\u001b[0m \u001b[0;34m=\u001b[0m \u001b[0;36m2\u001b[0m\u001b[0;34m\u001b[0m\u001b[0;34m\u001b[0m\u001b[0m\n\u001b[0;32m----> 3\u001b[0;31m \u001b[0mprint\u001b[0m\u001b[0;34m(\u001b[0m\u001b[0mx\u001b[0m \u001b[0;34m+\u001b[0m \u001b[0my\u001b[0m\u001b[0;34m)\u001b[0m\u001b[0;34m\u001b[0m\u001b[0;34m\u001b[0m\u001b[0m\n\u001b[0m",
            "\u001b[0;31mTypeError\u001b[0m: must be str, not int"
          ]
        }
      ]
    }
  ]
}