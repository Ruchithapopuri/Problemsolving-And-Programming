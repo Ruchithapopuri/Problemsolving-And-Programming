{
  "nbformat": 4,
  "nbformat_minor": 0,
  "metadata": {
    "colab": {
      "name": "Copy of Day 10",
      "version": "0.3.2",
      "provenance": []
    },
    "kernelspec": {
      "name": "python3",
      "display_name": "Python 3"
    }
  },
  "cells": [
    {
      "cell_type": "markdown",
      "metadata": {
        "id": "ItiQJrzwIiEt",
        "colab_type": "text"
      },
      "source": [
        "### Example 1\n",
        "\n",
        "\n",
        "create a file and store data in it."
      ]
    },
    {
      "cell_type": "code",
      "metadata": {
        "id": "6gYpRtu_Is-8",
        "colab_type": "code",
        "outputId": "0e646910-cb8f-4ab4-b17f-d9540ca2f9a3",
        "colab": {
          "base_uri": "https://localhost:8080/",
          "height": 34
        }
      },
      "source": [
        "# function to create a file and write some data\n",
        "def createfile(filename):\n",
        "    f=open(filename,\"w\")\n",
        "    for i in range(10):\n",
        "        f.write(\"this is %d line\\n\"%i)\n",
        "    print(\"File is created successfully and data is stored in it\")\n",
        "    f.close()\n",
        "    return\n",
        "createfile(\"file1.txt\")"
      ],
      "execution_count": 0,
      "outputs": [
        {
          "output_type": "stream",
          "text": [
            "File is created successfully and data is stored in it\n"
          ],
          "name": "stdout"
        }
      ]
    },
    {
      "cell_type": "markdown",
      "metadata": {
        "id": "bREpbdHRJg4T",
        "colab_type": "text"
      },
      "source": [
        "### Example 2\n",
        "\n",
        "Read a file"
      ]
    },
    {
      "cell_type": "code",
      "metadata": {
        "id": "k-b6v8UXMRHe",
        "colab_type": "code",
        "outputId": "6be8c6bf-902d-4fa8-daac-1d0409a98c0f",
        "colab": {
          "base_uri": "https://localhost:8080/",
          "height": 204
        }
      },
      "source": [
        "#funtion for reading the file data\n",
        "def readfile(filename):\n",
        "    f=open(filename,\"r\")\n",
        "    if f.mode==\"r\":\n",
        "        x=f.read()\n",
        "        print(x)\n",
        "    f.close()\n",
        "    return\n",
        "readfile(\"file1.txt\")"
      ],
      "execution_count": 0,
      "outputs": [
        {
          "output_type": "stream",
          "text": [
            "this is 0 line\n",
            "this is 1 line\n",
            "this is 2 line\n",
            "this is 3 line\n",
            "this is 4 line\n",
            "this is 5 line\n",
            "this is 6 line\n",
            "this is 7 line\n",
            "this is 8 line\n",
            "this is 9 line\n",
            "\n"
          ],
          "name": "stdout"
        }
      ]
    },
    {
      "cell_type": "code",
      "metadata": {
        "id": "3FClpWjJM-iU",
        "colab_type": "code",
        "outputId": "a8cd0569-a0b5-41a9-8e82-071879b3528f",
        "colab": {
          "base_uri": "https://localhost:8080/",
          "height": 34
        }
      },
      "source": [
        "def createfile(filename):\n",
        "    f=open(filename,\"w\")\n",
        "    for i in range(10):\n",
        "        f.write(\"this is %d line\\n\"%i)\n",
        "    print(\"File is created successfully and data is written\")\n",
        "    f.close()\n",
        "    return\n",
        "createfile(\"file1.txt\")"
      ],
      "execution_count": 0,
      "outputs": [
        {
          "output_type": "stream",
          "text": [
            "File is created successfully and data is written\n"
          ],
          "name": "stdout"
        }
      ]
    },
    {
      "cell_type": "code",
      "metadata": {
        "id": "OflBWTlNNWrc",
        "colab_type": "code",
        "outputId": "e5920266-aefe-444e-c8ca-e33025aa4316",
        "colab": {
          "base_uri": "https://localhost:8080/",
          "height": 34
        }
      },
      "source": [
        "x = 1\n",
        "y = \"2\"\n",
        "z = 3\n",
        "\n",
        "sum = 0\n",
        "for i in (x,y,z):\n",
        "    if isinstance(i, int):\n",
        "        sum += i\n",
        "print(sum)"
      ],
      "execution_count": 0,
      "outputs": [
        {
          "output_type": "stream",
          "text": [
            "4\n"
          ],
          "name": "stdout"
        }
      ]
    },
    {
      "cell_type": "code",
      "metadata": {
        "id": "h_8tncdeO6Ho",
        "colab_type": "code",
        "outputId": "ae861367-cf14-4799-f21e-32a6b37da44a",
        "colab": {
          "base_uri": "https://localhost:8080/",
          "height": 231
        }
      },
      "source": [
        "kvps = { '1' : 1, '2' : 2, '3' : 3, '4' : 4, '5' : 5}\n",
        "newData = { '1' : 10, '3' : 30 }\n",
        "\n",
        "kvps.update(newData)\n",
        "\n",
        "x = sum(kvps.values())\n",
        "\n",
        "print(x)"
      ],
      "execution_count": 0,
      "outputs": [
        {
          "output_type": "error",
          "ename": "TypeError",
          "evalue": "ignored",
          "traceback": [
            "\u001b[0;31m---------------------------------------------------------------------------\u001b[0m",
            "\u001b[0;31mTypeError\u001b[0m                                 Traceback (most recent call last)",
            "\u001b[0;32m<ipython-input-8-781518a1712e>\u001b[0m in \u001b[0;36m<module>\u001b[0;34m()\u001b[0m\n\u001b[1;32m      4\u001b[0m \u001b[0mkvps\u001b[0m\u001b[0;34m.\u001b[0m\u001b[0mupdate\u001b[0m\u001b[0;34m(\u001b[0m\u001b[0mnewData\u001b[0m\u001b[0;34m)\u001b[0m\u001b[0;34m\u001b[0m\u001b[0;34m\u001b[0m\u001b[0m\n\u001b[1;32m      5\u001b[0m \u001b[0;34m\u001b[0m\u001b[0m\n\u001b[0;32m----> 6\u001b[0;31m \u001b[0mx\u001b[0m \u001b[0;34m=\u001b[0m \u001b[0msum\u001b[0m\u001b[0;34m(\u001b[0m\u001b[0mkvps\u001b[0m\u001b[0;34m.\u001b[0m\u001b[0mvalues\u001b[0m\u001b[0;34m(\u001b[0m\u001b[0;34m)\u001b[0m\u001b[0;34m)\u001b[0m\u001b[0;34m\u001b[0m\u001b[0;34m\u001b[0m\u001b[0m\n\u001b[0m\u001b[1;32m      7\u001b[0m \u001b[0;34m\u001b[0m\u001b[0m\n\u001b[1;32m      8\u001b[0m \u001b[0mprint\u001b[0m\u001b[0;34m(\u001b[0m\u001b[0mx\u001b[0m\u001b[0;34m)\u001b[0m\u001b[0;34m\u001b[0m\u001b[0;34m\u001b[0m\u001b[0m\n",
            "\u001b[0;31mTypeError\u001b[0m: 'int' object is not callable"
          ]
        }
      ]
    },
    {
      "cell_type": "code",
      "metadata": {
        "id": "WANPvuXUXVSB",
        "colab_type": "code",
        "colab": {}
      },
      "source": [
        "#data to append\n",
        "#funtion to append data to existing file\n",
        "def appendData(filename):\n",
        "    f=open(filename,\"a\")\n",
        "    f.write(\"new line 1\\n\")\n",
        "    f.write(\"new line\")\n",
        "    f.close()\n",
        "    return\n",
        "appendData(\"file1.txt\")"
      ],
      "execution_count": 0,
      "outputs": []
    },
    {
      "cell_type": "code",
      "metadata": {
        "id": "Z6NdfA80afGI",
        "colab_type": "code",
        "outputId": "e899b3ef-6572-4068-d801-c4c8d025cf66",
        "colab": {
          "base_uri": "https://localhost:8080/",
          "height": 34
        }
      },
      "source": [
        "#Word count using file I/O Python\n",
        "def dataAnalysisWordCount(filename,word):\n",
        "    f = open(filename,\"r\")\n",
        "    if f.mode == \"r\":\n",
        "        x = f.read()\n",
        "        lst = x.split()\n",
        "    cnt = lst.count(word)\n",
        "    return cnt\n",
        "  \n",
        "print(dataAnalysisWordCount(\"file1.txt\",\"rest\"))"
      ],
      "execution_count": 0,
      "outputs": [
        {
          "output_type": "stream",
          "text": [
            "0\n"
          ],
          "name": "stdout"
        }
      ]
    },
    {
      "cell_type": "code",
      "metadata": {
        "id": "VxcjhVr3h0G_",
        "colab_type": "code",
        "outputId": "4f0395fc-0b37-4cd7-8617-d3ec7a830109",
        "colab": {
          "base_uri": "https://localhost:8080/",
          "height": 34
        }
      },
      "source": [
        "def countCharacter(filename):\n",
        "    f = open(filename,\"r\")\n",
        "    if f.mode == \"r\":\n",
        "        x = f.read()\n",
        "        lst = list(x)\n",
        "    return len(lst)\n",
        "print(countCharacter(\"file1.txt\"))"
      ],
      "execution_count": 0,
      "outputs": [
        {
          "output_type": "stream",
          "text": [
            "226\n"
          ],
          "name": "stdout"
        }
      ]
    },
    {
      "cell_type": "code",
      "metadata": {
        "id": "VDsx9OotmA4I",
        "colab_type": "code",
        "outputId": "faad7c05-f93a-4f84-b61e-a332fc36c775",
        "colab": {
          "base_uri": "https://localhost:8080/",
          "height": 34
        }
      },
      "source": [
        "def uppercasecount(filename):\n",
        "    cntupper=0\n",
        "    f = open(filename,\"r\")\n",
        "    if f.mode == \"r\":\n",
        "        x = f.read()\n",
        "        lst = list(x)\n",
        "    for i in lst:\n",
        "        if i.upper():\n",
        "           cntupper+=1\n",
        "    return cntupper\n",
        "print(countCharacter(\"file1.txt\"))"
      ],
      "execution_count": 0,
      "outputs": [
        {
          "output_type": "stream",
          "text": [
            "226\n"
          ],
          "name": "stdout"
        }
      ]
    },
    {
      "cell_type": "code",
      "metadata": {
        "id": "_Inj7p5PnkdL",
        "colab_type": "code",
        "outputId": "b80e5e52-9593-4d97-e622-fd34cd5f5bb3",
        "colab": {
          "base_uri": "https://localhost:8080/",
          "height": 34
        }
      },
      "source": [
        "#Function to count of lines in the given file\n",
        "\n",
        "def countlines(filename):\n",
        "    f=open(filename,\"r\")\n",
        "    if f.mode == \"r\":\n",
        "        x=f.read()\n",
        "        lst=x.split(\"\\n\")\n",
        "    return len(lst)\n",
        "  \n",
        "countlines(\"file1.txt\")\n",
        "    "
      ],
      "execution_count": 0,
      "outputs": [
        {
          "output_type": "execute_result",
          "data": {
            "text/plain": [
              "15"
            ]
          },
          "metadata": {
            "tags": []
          },
          "execution_count": 26
        }
      ]
    },
    {
      "cell_type": "markdown",
      "metadata": {
        "id": "kvlxT-7yxjS6",
        "colab_type": "text"
      },
      "source": [
        "### Regular Expressions\n",
        "\n",
        "Pattern matching.\n",
        "\n",
        "Symbolic repretations of pattern\n",
        "\n",
        "\n",
        "Pattern(RE) represents the set of values that are given in pattern.\n",
        "\n",
        "[0-9] -----> Any digit\n",
        "\n",
        "[a-z] -----> Any lowercase character\n",
        "\n",
        "[A-Z] -----> Any upper case characters\n",
        "\n",
        "[2468] -----> all the single digit multiples of 2\n",
        "\n",
        "[0-9]{1}$ ---> only single digit number\n",
        "       \n",
        "        cap symbol is used for start of regualr expression\n",
        "        \n",
        "        dollar symbol us used to end of the regular expression\n",
        "        \n",
        "        ^[0-9]{1}$ ---> regular expression will accept only three digit numbers\n",
        "        \n",
        "        ^[a-z]{5}$ ----> it only accepts the 5 character string that to lower case characters\n",
        "        \n",
        "        \n",
        "        ^[a-zA-Z]{6}$ ---> a string can be of upper  / lower case\n",
        "        \n",
        "        \n",
        "        ^[a-zA-Z]{6-15} ---> a string min of 6 characters\n",
        "        \n",
        "        ^[a-zA-z0-9]{6-15}$ ---> upper ,lower and digits\n",
        "        \n",
        "        ^[6-9][0-9]{9}$ ---> RE for Indian Mobile Number\n",
        "        \n",
        "        ^[0][6-9][0=9]{9}$ ----> RE for Indian Mobile Number\n",
        "        \n",
        "        [+][9][1][6-9][0-9]$ ----> RE for Indian Mobile Number\n",
        "        \n",
        "        \n",
        "        ###Regular Expression for india mobile numbers\n",
        "        \n",
        "        validation for Email id username@domainname.extensions\n",
        "        \n",
        "        \n",
        "        +967654321 ---- first digits[6-9]"
      ]
    },
    {
      "cell_type": "code",
      "metadata": {
        "id": "s-QzdBKHJTg8",
        "colab_type": "code",
        "outputId": "c95e3ffe-a494-4280-92a5-74f8816b1c0c",
        "colab": {
          "base_uri": "https://localhost:8080/",
          "height": 68
        }
      },
      "source": [
        "import re\n",
        "def phoneNumberValidate(phone):\n",
        "    pattern = '^[6-9][0-9]{9}$'\n",
        "    phone = str(phone)\n",
        "    if re.match(pattern,phone):\n",
        "        return True \n",
        "    return False\n",
        "print(phoneNumberValidate(9966338855))\n",
        "print(phoneNumberValidate(99668855))\n",
        "print(phoneNumberValidate(+916655889922))"
      ],
      "execution_count": 0,
      "outputs": [
        {
          "output_type": "stream",
          "text": [
            "True\n",
            "False\n",
            "False\n"
          ],
          "name": "stdout"
        }
      ]
    },
    {
      "cell_type": "code",
      "metadata": {
        "id": "es0Cn1ztMWK8",
        "colab_type": "code",
        "outputId": "59549de7-47f4-423f-cc05-d0ae09515c11",
        "colab": {
          "base_uri": "https://localhost:8080/",
          "height": 68
        }
      },
      "source": [
        "import re\n",
        "def phoneNumberValidate(phone):\n",
        "    pattern = '^[6-9][0-9]{9}$|^[0][6-9][0-9]{9}$|^[+][9][1][6-9][0-9]{9}$'\n",
        "    phone = str(phone)\n",
        "    if re.match(pattern,phone):\n",
        "        return True \n",
        "    return False\n",
        "print(phoneNumberValidate(\"9966338855\"))\n",
        "print(phoneNumberValidate(\"09964468855\"))\n",
        "print(phoneNumberValidate(\"+916655889922\"))"
      ],
      "execution_count": 0,
      "outputs": [
        {
          "output_type": "stream",
          "text": [
            "True\n",
            "True\n",
            "True\n"
          ],
          "name": "stdout"
        }
      ]
    },
    {
      "cell_type": "code",
      "metadata": {
        "id": "f8vcxQDGQD01",
        "colab_type": "code",
        "outputId": "8dcc495b-66de-4c5f-c2c9-ceda639a6e96",
        "colab": {
          "base_uri": "https://localhost:8080/",
          "height": 51
        }
      },
      "source": [
        "import re\n",
        "def validateRollNumber(number):\n",
        "    number = str(number)\n",
        "    pattern = \"^[1][5][2][U][1][A][0][1-9][0-6][0-9]$\";\n",
        "    if re.match(pattern,number):\n",
        "        return True\n",
        "    return False\n",
        "print(validateRollNumber(\"152U1A0555\"))\n",
        "print(validateRollNumber(\"152U1A0485\"))"
      ],
      "execution_count": 0,
      "outputs": [
        {
          "output_type": "stream",
          "text": [
            "True\n",
            "False\n"
          ],
          "name": "stdout"
        }
      ]
    },
    {
      "cell_type": "code",
      "metadata": {
        "id": "fSce-QDLbqpX",
        "colab_type": "code",
        "colab": {}
      },
      "source": [
        "import re\n",
        "def validateEmailID(email):\n",
        "    number = str(number)\n",
        "    pattern = \"^[1][5][2][U][1][A][0][1-9][0-6][0-9]$\";\n",
        "    if re.match(pattern,number):\n",
        "        return True\n",
        "    return False\n",
        "print(validateRollNumber(\"152U1A0555\"))\n",
        "print(validateRollNumber(\"152U1A0485\"))"
      ],
      "execution_count": 0,
      "outputs": []
    }
  ]
}