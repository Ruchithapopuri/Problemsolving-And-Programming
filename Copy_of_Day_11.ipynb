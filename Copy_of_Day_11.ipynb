{
  "nbformat": 4,
  "nbformat_minor": 0,
  "metadata": {
    "colab": {
      "name": "Copy of Day 11",
      "version": "0.3.2",
      "provenance": []
    },
    "kernelspec": {
      "name": "python3",
      "display_name": "Python 3"
    }
  },
  "cells": [
    {
      "cell_type": "markdown",
      "metadata": {
        "id": "rHaJIcAAMUsI",
        "colab_type": "text"
      },
      "source": [
        "# Introduction to oop in python\n",
        "\n",
        "\n",
        "one of the popular approach to solve a programming problem by creating an object .this is known as object oriented programming.\n",
        "\n",
        "\n",
        "An object has tow charcteristics \n",
        "\n",
        "1.   Attributes(Name,Age,Color)\n",
        "2.   Behaviour(Learn,study,singing,dancing)\n",
        "\n",
        "In python the concept of oop follows these things:\n",
        "\n",
        "class:\n",
        "\n",
        "\n",
        "A class is blueprint for object or logical entity\n",
        "\n",
        "object:\n",
        "\n",
        "Blueprint of class or insurance of the class or physical entity\n",
        "\n",
        "#class classname:\n",
        "\n",
        "           #same function are variables.\n",
        "           \n",
        "           #function -- used to perform specific activity.\n",
        "           \n",
        "           #variables -- data(merory).\n",
        "\n"
      ]
    },
    {
      "cell_type": "code",
      "metadata": {
        "id": "FbDpECQAR5FM",
        "colab_type": "code",
        "colab": {}
      },
      "source": [
        "def test():\n",
        "    return\n",
        "test()"
      ],
      "execution_count": 0,
      "outputs": []
    },
    {
      "cell_type": "code",
      "metadata": {
        "id": "_E_1uwq2SErU",
        "colab_type": "code",
        "outputId": "ba7b7b4d-11ad-4966-c22a-9af89946ccf4",
        "colab": {
          "base_uri": "https://localhost:8080/",
          "height": 34
        }
      },
      "source": [
        "class demo:\n",
        "    def test(self):\n",
        "        print(\"test() for the class and method\")\n",
        "        return\n",
        "      \n",
        "obj=demo()\n",
        "obj.test()"
      ],
      "execution_count": 0,
      "outputs": [
        {
          "output_type": "stream",
          "text": [
            "test() for the class and method\n"
          ],
          "name": "stdout"
        }
      ]
    },
    {
      "cell_type": "code",
      "metadata": {
        "id": "b7ImPh0ISvvi",
        "colab_type": "code",
        "outputId": "bdeaafe5-ee4d-4446-9f9c-ad6037b31e87",
        "colab": {
          "base_uri": "https://localhost:8080/",
          "height": 34
        }
      },
      "source": [
        "class demo1:\n",
        "    def fact(self,n):\n",
        "      #return the factorial\n",
        "      fact=1\n",
        "      while(n!=0):\n",
        "          fact = fact * n\n",
        "          n = n -1\n",
        "      return fact\n",
        "    \n",
        "p1 = demo1()\n",
        "print(p1.fact(5))"
      ],
      "execution_count": 0,
      "outputs": [
        {
          "output_type": "stream",
          "text": [
            "120\n"
          ],
          "name": "stdout"
        }
      ]
    },
    {
      "cell_type": "code",
      "metadata": {
        "id": "Cuaq_dtXUFNZ",
        "colab_type": "code",
        "outputId": "8298124f-038a-48af-b36c-6992db9c4a8b",
        "colab": {
          "base_uri": "https://localhost:8080/",
          "height": 51
        }
      },
      "source": [
        "class demo2:\n",
        "  \n",
        "    def accept(self,p1,p2):\n",
        "        self.p1=p1\n",
        "        self.p2=p2\n",
        "        return\n",
        "    def display(self):\n",
        "        print('p1 =',self.p1)\n",
        "        print('p2 =',self.p2)\n",
        "        \n",
        "c1=demo2()\n",
        "c1.accept(10,20)\n",
        "c1.display()"
      ],
      "execution_count": 0,
      "outputs": [
        {
          "output_type": "stream",
          "text": [
            "p1 = 10\n",
            "p2 = 20\n"
          ],
          "name": "stdout"
        }
      ]
    },
    {
      "cell_type": "code",
      "metadata": {
        "id": "rTOATEbJWDNl",
        "colab_type": "code",
        "outputId": "de970eb8-ae06-4bb3-aa0b-503bc67302f6",
        "colab": {
          "base_uri": "https://localhost:8080/",
          "height": 34
        }
      },
      "source": [
        "class demo2:\n",
        "    def __init__(self,p1,p2):\n",
        "        self.p1 = p1\n",
        "        self.p2 = p2\n",
        "        \n",
        "    def add(self,p1,p2):\n",
        "        return p1 + p2\n",
        "      \n",
        "c1 = demo2(10,20)\n",
        "print(c1.add(100,200))"
      ],
      "execution_count": 0,
      "outputs": [
        {
          "output_type": "stream",
          "text": [
            "300\n"
          ],
          "name": "stdout"
        }
      ]
    },
    {
      "cell_type": "code",
      "metadata": {
        "id": "PMaOjoml0zCc",
        "colab_type": "code",
        "colab": {}
      },
      "source": [
        "# same inheritance\n",
        "# parent class\n",
        "class person(object):\n",
        "    #constuctor\n",
        "    def __init__(self,name):\n",
        "      self.name=name\n",
        "    def getName(self):\n",
        "        return self.name\n",
        "    def isEmployer(self):\n",
        "        return False"
      ],
      "execution_count": 0,
      "outputs": []
    },
    {
      "cell_type": "markdown",
      "metadata": {
        "id": "j4aatQ-a1oGG",
        "colab_type": "text"
      },
      "source": [
        "##Python Nummy\n",
        "\n",
        "Nummy arrays is a bit like python list\n",
        "\n",
        "\n",
        "Nummy array is a central data structure of the nummy lib\n",
        "\n",
        "This lib is actually short form of 'Numeric Python'"
      ]
    },
    {
      "cell_type": "code",
      "metadata": {
        "id": "nYxHyHQH2WVZ",
        "colab_type": "code",
        "outputId": "9f155255-900f-4921-81c9-7a40982b9919",
        "colab": {
          "base_uri": "https://localhost:8080/",
          "height": 34
        }
      },
      "source": [
        "import numpy as np\n",
        "lst=[1,2,3,4]\n",
        "array=np.array(lst)\n",
        "print(array)"
      ],
      "execution_count": 0,
      "outputs": [
        {
          "output_type": "stream",
          "text": [
            "[1 2 3 4]\n"
          ],
          "name": "stdout"
        }
      ]
    },
    {
      "cell_type": "code",
      "metadata": {
        "id": "Hx1F4qLW2sTg",
        "colab_type": "code",
        "outputId": "4bf7bfc0-a4e7-4e98-8d7c-d95be22dd8ee",
        "colab": {
          "base_uri": "https://localhost:8080/",
          "height": 51
        }
      },
      "source": [
        "lst=[1,2,3,4]\n",
        "array=np.array(lst)\n",
        "print(array.shape)\n",
        "print(array.dtype)"
      ],
      "execution_count": 0,
      "outputs": [
        {
          "output_type": "stream",
          "text": [
            "(4,)\n",
            "int64\n"
          ],
          "name": "stdout"
        }
      ]
    },
    {
      "cell_type": "code",
      "metadata": {
        "id": "j8rrGfs43DrQ",
        "colab_type": "code",
        "outputId": "268ed5a5-14df-4aba-9656-ec066c46d52f",
        "colab": {
          "base_uri": "https://localhost:8080/",
          "height": 51
        }
      },
      "source": [
        "lst=[1,0,2,5,3,6,9,5]\n",
        "array=np.array(lst)\n",
        "print(array.shape)\n",
        "print(array.dtype)\n"
      ],
      "execution_count": 0,
      "outputs": [
        {
          "output_type": "stream",
          "text": [
            "(8,)\n",
            "int64\n"
          ],
          "name": "stdout"
        }
      ]
    },
    {
      "cell_type": "code",
      "metadata": {
        "id": "Fo3YmDsl3ZX2",
        "colab_type": "code",
        "outputId": "526a1391-d3e6-4142-c403-17a53e5eb405",
        "colab": {
          "base_uri": "https://localhost:8080/",
          "height": 51
        }
      },
      "source": [
        "a1=np.array([(1,2,3),(4,5,6)])\n",
        "print(a1.shape)\n",
        "a2=np.array([(1,2),(3,4),(5,6)])\n",
        "print(a2.shape)"
      ],
      "execution_count": 0,
      "outputs": [
        {
          "output_type": "stream",
          "text": [
            "(2, 3)\n",
            "(3, 2)\n"
          ],
          "name": "stdout"
        }
      ]
    },
    {
      "cell_type": "code",
      "metadata": {
        "id": "_qMVLhGO57zV",
        "colab_type": "code",
        "outputId": "b7923ba0-b82f-480e-bbf9-46ebc9a5d1ba",
        "colab": {
          "base_uri": "https://localhost:8080/",
          "height": 102
        }
      },
      "source": [
        "# RE-shape the given array\n",
        "# numpy.reshape(arrayName,reshape,order='c')\n",
        "a1=np.array([(1,2,3),(4,5,6)])\n",
        "print(a1)\n",
        "a1.reshape(3,2)\n"
      ],
      "execution_count": 0,
      "outputs": [
        {
          "output_type": "stream",
          "text": [
            "[[1 2 3]\n",
            " [4 5 6]]\n"
          ],
          "name": "stdout"
        },
        {
          "output_type": "execute_result",
          "data": {
            "text/plain": [
              "array([[1, 2],\n",
              "       [3, 4],\n",
              "       [5, 6]])"
            ]
          },
          "metadata": {
            "tags": []
          },
          "execution_count": 26
        }
      ]
    },
    {
      "cell_type": "code",
      "metadata": {
        "id": "SNPg_rhN89MP",
        "colab_type": "code",
        "outputId": "909906d1-be38-41f2-9115-bc07c9583e4a",
        "colab": {
          "base_uri": "https://localhost:8080/",
          "height": 34
        }
      },
      "source": [
        "#Append some Data --Horizontally\n",
        "#Append some Data --Vertically\n",
        "\n",
        "a1=np.array([1,2,3])\n",
        "a2=np.array([4,5,6])\n",
        "print(np.hstack((a1,a2)))"
      ],
      "execution_count": 0,
      "outputs": [
        {
          "output_type": "stream",
          "text": [
            "[1 2 3 4 5 6]\n"
          ],
          "name": "stdout"
        }
      ]
    },
    {
      "cell_type": "code",
      "metadata": {
        "id": "Kt_BYp3X9jvt",
        "colab_type": "code",
        "outputId": "f4244fdf-a3a5-4b74-861b-ea17c5f83a51",
        "colab": {
          "base_uri": "https://localhost:8080/",
          "height": 51
        }
      },
      "source": [
        "#append some Data --Vertically\n",
        "# vstack(array1,array2) -- will be automatically arranged\n",
        "a1=np.array([1,2,3])\n",
        "a2=np.array([4,5,6])\n",
        "print(np.vstack((a1,a2)))"
      ],
      "execution_count": 0,
      "outputs": [
        {
          "output_type": "stream",
          "text": [
            "[[1 2 3]\n",
            " [4 5 6]]\n"
          ],
          "name": "stdout"
        }
      ]
    },
    {
      "cell_type": "code",
      "metadata": {
        "id": "GxtmUdBK-DV9",
        "colab_type": "code",
        "outputId": "caf4f8a9-5321-4706-c6f9-e43304203c7f",
        "colab": {
          "base_uri": "https://localhost:8080/",
          "height": 34
        }
      },
      "source": [
        "# Generate random number from NP\n",
        "a1=np.random.normal(5,0,10)\n",
        "print(a1)"
      ],
      "execution_count": 0,
      "outputs": [
        {
          "output_type": "stream",
          "text": [
            "[5. 5. 5. 5. 5. 5. 5. 5. 5. 5.]\n"
          ],
          "name": "stdout"
        }
      ]
    },
    {
      "cell_type": "code",
      "metadata": {
        "id": "sI8irkZQ-W5T",
        "colab_type": "code",
        "outputId": "c1a18f36-335f-45fe-8d1c-dbbcc232c03e",
        "colab": {
          "base_uri": "https://localhost:8080/",
          "height": 51
        }
      },
      "source": [
        "np.zeros((2,2))"
      ],
      "execution_count": 0,
      "outputs": [
        {
          "output_type": "execute_result",
          "data": {
            "text/plain": [
              "array([[0., 0.],\n",
              "       [0., 0.]])"
            ]
          },
          "metadata": {
            "tags": []
          },
          "execution_count": 30
        }
      ]
    },
    {
      "cell_type": "code",
      "metadata": {
        "id": "TJ8Tkm1_-dt5",
        "colab_type": "code",
        "outputId": "c56fb317-9585-4e8a-900f-9f46d9765909",
        "colab": {
          "base_uri": "https://localhost:8080/",
          "height": 85
        }
      },
      "source": [
        "A=np.matrix(np.ones((4,4),dtype=np.int64))\n",
        "np.asarray(A)[2]=5\n",
        "print(A)"
      ],
      "execution_count": 0,
      "outputs": [
        {
          "output_type": "stream",
          "text": [
            "[[1 1 1 1]\n",
            " [1 1 1 1]\n",
            " [5 5 5 5]\n",
            " [1 1 1 1]]\n"
          ],
          "name": "stdout"
        }
      ]
    },
    {
      "cell_type": "code",
      "metadata": {
        "id": "UP9SpmLA_GjS",
        "colab_type": "code",
        "outputId": "678a91c3-c113-4f42-999e-5ad9bfbd7cae",
        "colab": {
          "base_uri": "https://localhost:8080/",
          "height": 85
        }
      },
      "source": [
        "A=np.matrix(np.ones((4,4),dtype=np.int64))\n",
        "np.asarray(A)[1][3]=14\n",
        "np.asarray(A)[3][3]=16\n",
        "print(A)"
      ],
      "execution_count": 0,
      "outputs": [
        {
          "output_type": "stream",
          "text": [
            "[[ 1  1  1  1]\n",
            " [ 1  1  1 14]\n",
            " [ 1  1  1  1]\n",
            " [ 1  1  1 16]]\n"
          ],
          "name": "stdout"
        }
      ]
    },
    {
      "cell_type": "code",
      "metadata": {
        "id": "wPlWWScFQwHN",
        "colab_type": "code",
        "outputId": "3631259a-e867-46d7-d2bd-3847b5441f7b",
        "colab": {
          "base_uri": "https://localhost:8080/",
          "height": 34
        }
      },
      "source": [
        "# arange() --particular\n",
        "# numpy.arrange(start,end,step)\n",
        "# start -- value\n",
        "# End -- value\n",
        "# step -- gap between one value to another value\n",
        "\n",
        "import numpy as np\n",
        "np.arange(1,10)\n"
      ],
      "execution_count": 0,
      "outputs": [
        {
          "output_type": "execute_result",
          "data": {
            "text/plain": [
              "array([1, 2, 3, 4, 5, 6, 7, 8, 9])"
            ]
          },
          "metadata": {
            "tags": []
          },
          "execution_count": 34
        }
      ]
    },
    {
      "cell_type": "code",
      "metadata": {
        "id": "QW1ZdhxQSMuP",
        "colab_type": "code",
        "outputId": "ccd0c028-b4f8-4460-c68b-461fdb872c4f",
        "colab": {
          "base_uri": "https://localhost:8080/",
          "height": 34
        }
      },
      "source": [
        "np.arange(1,100,9)"
      ],
      "execution_count": 0,
      "outputs": [
        {
          "output_type": "execute_result",
          "data": {
            "text/plain": [
              "array([ 1, 10, 19, 28, 37, 46, 55, 64, 73, 82, 91])"
            ]
          },
          "metadata": {
            "tags": []
          },
          "execution_count": 35
        }
      ]
    },
    {
      "cell_type": "code",
      "metadata": {
        "id": "5PbglDCKSa59",
        "colab_type": "code",
        "outputId": "271263f7-1f41-4c5e-b2c0-c2a1e492af52",
        "colab": {
          "base_uri": "https://localhost:8080/",
          "height": 34
        }
      },
      "source": [
        "np.arange(2,20,2)\n",
        "np.arange(1,25,2)"
      ],
      "execution_count": 0,
      "outputs": [
        {
          "output_type": "execute_result",
          "data": {
            "text/plain": [
              "array([ 1,  3,  5,  7,  9, 11, 13, 15, 17, 19, 21, 23])"
            ]
          },
          "metadata": {
            "tags": []
          },
          "execution_count": 36
        }
      ]
    },
    {
      "cell_type": "code",
      "metadata": {
        "id": "YRhM65F4TD_Q",
        "colab_type": "code",
        "outputId": "b9444209-3f65-47b2-94f5-41c9807aa228",
        "colab": {
          "base_uri": "https://localhost:8080/",
          "height": 51
        }
      },
      "source": [
        "#Index and slicing of numpy\n",
        "a1=np.array([(1,2,3),(4,5,6)])\n",
        "print(a1)"
      ],
      "execution_count": 0,
      "outputs": [
        {
          "output_type": "stream",
          "text": [
            "[[1 2 3]\n",
            " [4 5 6]]\n"
          ],
          "name": "stdout"
        }
      ]
    },
    {
      "cell_type": "code",
      "metadata": {
        "id": "l-1yB5hATe0D",
        "colab_type": "code",
        "outputId": "accbf496-2c5a-4cea-b8a8-5fba17cc80af",
        "colab": {
          "base_uri": "https://localhost:8080/",
          "height": 34
        }
      },
      "source": [
        "a1=np.array([(1,2,3),(4,5,6)])\n",
        "print(\"First row:\",a1[0])"
      ],
      "execution_count": 0,
      "outputs": [
        {
          "output_type": "stream",
          "text": [
            "First row: [1 2 3]\n"
          ],
          "name": "stdout"
        }
      ]
    },
    {
      "cell_type": "code",
      "metadata": {
        "id": "4xo8r3NET9f6",
        "colab_type": "code",
        "outputId": "83b9e876-cb9f-4d35-cc83-d9cde155b17d",
        "colab": {
          "base_uri": "https://localhost:8080/",
          "height": 34
        }
      },
      "source": [
        "a1=np.array([(1,2,3),(4,5,6)])\n",
        "print(\"second row:\",a1[1])"
      ],
      "execution_count": 0,
      "outputs": [
        {
          "output_type": "stream",
          "text": [
            "second row: [4 5 6]\n"
          ],
          "name": "stdout"
        }
      ]
    },
    {
      "cell_type": "code",
      "metadata": {
        "id": "wNVAZ9EySnfW",
        "colab_type": "code",
        "outputId": "7079b9a6-c90e-458e-eb9a-7ceece65c40f",
        "colab": {
          "base_uri": "https://localhost:8080/",
          "height": 34
        }
      },
      "source": [
        "a1=np.array([(1,2,3),(4,5,6)])\n",
        "print(\"slicing column\",a1[:,1])"
      ],
      "execution_count": 0,
      "outputs": [
        {
          "output_type": "stream",
          "text": [
            "slicing column [2 5]\n"
          ],
          "name": "stdout"
        }
      ]
    },
    {
      "cell_type": "code",
      "metadata": {
        "id": "17Ur68PPUsZh",
        "colab_type": "code",
        "outputId": "4275aa69-533e-409d-d12e-b588894c8557",
        "colab": {
          "base_uri": "https://localhost:8080/",
          "height": 34
        }
      },
      "source": [
        "a1=np.array([(1,2,3),(4,5,6)])\n",
        "print(\"slicing last column\",a1[:,2])"
      ],
      "execution_count": 0,
      "outputs": [
        {
          "output_type": "stream",
          "text": [
            "slicing last column [3 6]\n"
          ],
          "name": "stdout"
        }
      ]
    },
    {
      "cell_type": "code",
      "metadata": {
        "id": "EUAcUFDuU4Uh",
        "colab_type": "code",
        "outputId": "a93b8b51-c988-4423-869c-1a5809f0187e",
        "colab": {
          "base_uri": "https://localhost:8080/",
          "height": 51
        }
      },
      "source": [
        "a1=np.random.normal(5,1,10)\n",
        "print(a1)"
      ],
      "execution_count": 0,
      "outputs": [
        {
          "output_type": "stream",
          "text": [
            "[2.35940588 5.96015882 3.89284201 4.67395301 5.61309326 5.65519431\n",
            " 3.94718747 4.45015718 5.00590739 4.87632778]\n"
          ],
          "name": "stdout"
        }
      ]
    },
    {
      "cell_type": "code",
      "metadata": {
        "id": "5oHiuoGVVSho",
        "colab_type": "code",
        "outputId": "eff22817-4ed4-4908-bdb5-f5f3a73a49eb",
        "colab": {
          "base_uri": "https://localhost:8080/",
          "height": 119
        }
      },
      "source": [
        "# Some match operations on given random numbers\n",
        "# Min -- returns the least number\n",
        "# Max -- returns the large number\n",
        "# Mean -- Mean\n",
        "# Median -- Median\n",
        "a1=np.random.normal(5,1,10)\n",
        "print(a1)\n",
        "print(\"Min value\",np.min(a1))\n",
        "print(\"Max value\",np.max(a1))\n",
        "print(\"Mean value\",np.mean(a1))\n",
        "print(\"Median value\",np.median(a1))"
      ],
      "execution_count": 0,
      "outputs": [
        {
          "output_type": "stream",
          "text": [
            "[2.84943691 6.10465284 3.76171479 6.55049115 3.82088642 4.21883495\n",
            " 6.39643918 5.71704595 5.82026155 5.02868851]\n",
            "Min value 2.849436909611411\n",
            "Max value 6.550491147771025\n",
            "Mean value 5.026845223204466\n",
            "Median value 5.372867228868011\n"
          ],
          "name": "stdout"
        }
      ]
    },
    {
      "cell_type": "code",
      "metadata": {
        "id": "wkcU6_i2YXcK",
        "colab_type": "code",
        "outputId": "086923ca-f1c7-4607-a6a0-c09a61d165b6",
        "colab": {
          "base_uri": "https://localhost:8080/",
          "height": 34
        }
      },
      "source": [
        "# Mutiply of Id arrays\n",
        "# numpy.dot(x,y) --\n",
        "\n",
        "c1=np.array([1,2])\n",
        "c2=np.array([4,5])\n",
        "np.dot(c1,c2)"
      ],
      "execution_count": 0,
      "outputs": [
        {
          "output_type": "execute_result",
          "data": {
            "text/plain": [
              "14"
            ]
          },
          "metadata": {
            "tags": []
          },
          "execution_count": 46
        }
      ]
    },
    {
      "cell_type": "code",
      "metadata": {
        "id": "KoKFoRXGZigv",
        "colab_type": "code",
        "outputId": "b184844b-2d47-46f9-9697-3f18c3207127",
        "colab": {
          "base_uri": "https://localhost:8080/",
          "height": 51
        }
      },
      "source": [
        "c1=np.array([(1,2),(3,4)])\n",
        "c2=np.array([(4,5),(6,7)])\n",
        "np.dot(c1,c2)"
      ],
      "execution_count": 0,
      "outputs": [
        {
          "output_type": "execute_result",
          "data": {
            "text/plain": [
              "array([[16, 19],\n",
              "       [36, 43]])"
            ]
          },
          "metadata": {
            "tags": []
          },
          "execution_count": 47
        }
      ]
    },
    {
      "cell_type": "code",
      "metadata": {
        "id": "Zu9A_esyvqaa",
        "colab_type": "code",
        "colab": {}
      },
      "source": [
        ""
      ],
      "execution_count": 0,
      "outputs": []
    }
  ]
}